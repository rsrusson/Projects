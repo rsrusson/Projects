{
 "cells": [
  {
   "cell_type": "markdown",
   "id": "2343ac00",
   "metadata": {},
   "source": [
    "BMI Calculator"
   ]
  },
  {
   "cell_type": "code",
   "execution_count": 20,
   "id": "fbe5b65a",
   "metadata": {},
   "outputs": [
    {
     "name": "stdout",
     "output_type": "stream",
     "text": [
      "Enter your name: Ryan\n",
      "Enter your weight in pounds: 255\n",
      "Enter your height in inches: 70\n",
      "36.58469387755102\n",
      "Ryan is Obese.\n"
     ]
    }
   ],
   "source": [
    "name = input(\"Enter your name: \")\n",
    "\n",
    "weight = int(input(\"Enter your weight in pounds: \"))\n",
    "\n",
    "height = int(input(\"Enter your height in inches: \"))\n",
    "\n",
    "BMI = (weight * 703) / (height * height)\n",
    "print(BMI)\n",
    "print(name + ' is ' + category + '.')"
   ]
  },
  {
   "cell_type": "code",
   "execution_count": 19,
   "id": "92da8ccf",
   "metadata": {},
   "outputs": [],
   "source": [
    "category = 'Null'\n",
    "if BMI > 0:\n",
    "    if BMI < 18.5:\n",
    "        category = 'Underweight'\n",
    "    elif (BMI >= 18.5) and (BMI < 25):\n",
    "        category = 'Normal weight'\n",
    "    elif (BMI >= 25) and (BMI < 29.9):\n",
    "        category = 'Overweight'\n",
    "    elif (BMI >= 29.9) and (BMI < 39.9):\n",
    "        category = 'Obese'\n",
    "    else:\n",
    "        category = 'Morbidly Obese'"
   ]
  },
  {
   "cell_type": "code",
   "execution_count": null,
   "id": "bc722f7c",
   "metadata": {},
   "outputs": [],
   "source": [
    "#BMI = (weight in pounds x 703) / (height in inches x height in inches)"
   ]
  }
 ],
 "metadata": {
  "kernelspec": {
   "display_name": "Python 3 (ipykernel)",
   "language": "python",
   "name": "python3"
  },
  "language_info": {
   "codemirror_mode": {
    "name": "ipython",
    "version": 3
   },
   "file_extension": ".py",
   "mimetype": "text/x-python",
   "name": "python",
   "nbconvert_exporter": "python",
   "pygments_lexer": "ipython3",
   "version": "3.10.9"
  }
 },
 "nbformat": 4,
 "nbformat_minor": 5
}
